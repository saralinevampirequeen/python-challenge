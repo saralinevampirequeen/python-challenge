{
 "cells": [
  {
   "cell_type": "code",
   "execution_count": 1,
   "metadata": {},
   "outputs": [],
   "source": [
    "import csv"
   ]
  },
  {
   "cell_type": "code",
   "execution_count": 2,
   "metadata": {},
   "outputs": [],
   "source": [
    "#Path to CSV\n",
    "file_path = r'C:\\Users\\evilp\\Documents\\GitHub\\python-challenge\\PyBank\\Resources\\budget_data.csv'"
   ]
  },
  {
   "cell_type": "code",
   "execution_count": 3,
   "metadata": {},
   "outputs": [],
   "source": [
    "#Variables to store analysis results\n",
    "total_months = 0\n",
    "net_total = 0\n",
    "previous_profit_loss = 0\n",
    "total_change = 0\n",
    "greatest_increase = [\"\", 0]\n",
    "greatest_decrease = [\"\", 0]"
   ]
  },
  {
   "cell_type": "code",
   "execution_count": 4,
   "metadata": {},
   "outputs": [],
   "source": [
    "#Read the CSV\n",
    "with open(file_path, newline=\"\") as csvfile:\n",
    "    csvreader = csv.reader(csvfile, delimiter=\",\")\n",
    "\n",
    "    #Skip the header row\n",
    "    header = next(csvreader)\n",
    "\n",
    "    #Loop through each row in the CSV\n",
    "    for row in csvreader:\n",
    "        #Increment total months\n",
    "        total_months += 1\n",
    "\n",
    "        #Add the profit/loss for the current month to the net total\n",
    "        profit_loss = int(row[1])\n",
    "        net_total += profit_loss\n",
    "\n",
    "        #Calculate the change in profit/loss from the previous month\n",
    "        if total_months > 1:\n",
    "            change = profit_loss - previous_profit_loss\n",
    "            total_change += change\n",
    "\n",
    "            #Check if the current change is the greatest increase or decrease\n",
    "            if change > greatest_increase[1]:\n",
    "                greatest_increase = [row[0], change]\n",
    "            if change < greatest_decrease[1]:\n",
    "                greatest_decrease = [row[0], change]\n",
    "\n",
    "        #Store profit/loss for the next iteration\n",
    "        previous_profit_loss = profit_loss"
   ]
  },
  {
   "cell_type": "code",
   "execution_count": 11,
   "metadata": {},
   "outputs": [],
   "source": [
    "#Calculate the average change\n",
    "average_change = total_change / (total_months - 1)"
   ]
  },
  {
   "cell_type": "code",
   "execution_count": 23,
   "metadata": {},
   "outputs": [],
   "source": [
    "#Generate the results\n",
    "analysis_output = f\"\"\"\n",
    "Financial Analysis\n",
    "----------------------------\n",
    "Total Months: {total_months}\n",
    "Total: ${net_total}\n",
    "Average Change: ${average_change:.2f}\n",
    "Greatest Increase in Profits: {greatest_increase[0]} (${greatest_increase[1]})\n",
    "Greatest Decrease in Profits: {greatest_decrease[0]} (${greatest_decrease[1]})\n",
    "\"\"\""
   ]
  },
  {
   "cell_type": "code",
   "execution_count": 21,
   "metadata": {},
   "outputs": [
    {
     "name": "stdout",
     "output_type": "stream",
     "text": [
      "\n",
      "Financial Analysis\n",
      "----------------------------\n",
      "Total Months: 86\n",
      "Total: $22564198\n",
      "Average Change: $-8311.11\n",
      "Greatest Increase in Profits: Aug-16 ($1862002)\n",
      "Greatest Decrease in Profits: Feb-14 ($-1825558)\n",
      "\n"
     ]
    }
   ],
   "source": [
    "#Print the results\n",
    "print(analysis_output)"
   ]
  },
  {
   "cell_type": "code",
   "execution_count": 24,
   "metadata": {},
   "outputs": [
    {
     "name": "stdout",
     "output_type": "stream",
     "text": [
      "The analysis has been saved to financial_analysis.txt.\n"
     ]
    }
   ],
   "source": [
    "#Export to a text file\n",
    "output_file = \"financial_analysis.txt\"\n",
    "with open(output_file, \"w\") as txtfile:\n",
    "    txtfile.write(analysis_output)\n",
    "\n",
    "print(f\"The analysis has been saved to {output_file}.\")"
   ]
  }
 ],
 "metadata": {
  "kernelspec": {
   "display_name": "base",
   "language": "python",
   "name": "python3"
  },
  "language_info": {
   "codemirror_mode": {
    "name": "ipython",
    "version": 3
   },
   "file_extension": ".py",
   "mimetype": "text/x-python",
   "name": "python",
   "nbconvert_exporter": "python",
   "pygments_lexer": "ipython3",
   "version": "3.10.9"
  },
  "orig_nbformat": 4
 },
 "nbformat": 4,
 "nbformat_minor": 2
}
