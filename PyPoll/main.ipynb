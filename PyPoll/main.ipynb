{
 "cells": [
  {
   "cell_type": "code",
   "execution_count": 11,
   "metadata": {},
   "outputs": [],
   "source": [
    "import csv"
   ]
  },
  {
   "cell_type": "code",
   "execution_count": 12,
   "metadata": {},
   "outputs": [],
   "source": [
    "#Path to CSV\n",
    "file_path = r'C:\\Users\\evilp\\Documents\\GitHub\\python-challenge\\PyPoll\\Resources\\election_data.csv'"
   ]
  },
  {
   "cell_type": "code",
   "execution_count": 13,
   "metadata": {},
   "outputs": [],
   "source": [
    "#Define the variables\n",
    "total_votes = 0\n",
    "candidate_votes = {}\n",
    "winner = \"\""
   ]
  },
  {
   "cell_type": "code",
   "execution_count": 14,
   "metadata": {},
   "outputs": [],
   "source": [
    "#Read the CSV\n",
    "with open(file_path, newline=\"\") as csvfile:\n",
    "    csvreader = csv.reader(csvfile, delimiter=\",\")\n",
    "\n",
    "    #Skip the header row\n",
    "    header = next(csvreader)\n",
    "\n",
    "    #Loop through each row in the CSV\n",
    "    for row in csvreader:\n",
    "        # Increment total votes\n",
    "        total_votes += 1\n",
    "\n",
    "        #Get the candidate name from the current row\n",
    "        candidate = row[2]\n",
    "\n",
    "        #If the candidate exists in the dict., increment their vote count\n",
    "        if candidate in candidate_votes:\n",
    "            candidate_votes[candidate] += 1\n",
    "        #Otherwise, initialize their vote count to 1\n",
    "        else:\n",
    "            candidate_votes[candidate] = 1"
   ]
  },
  {
   "cell_type": "code",
   "execution_count": 15,
   "metadata": {},
   "outputs": [],
   "source": [
    "#Generate the output\n",
    "analysis_output = f\"\"\"\n",
    "Election Results\n",
    "-------------------------\n",
    "Total Votes: {total_votes}\n",
    "-------------------------\n",
    "\"\"\""
   ]
  },
  {
   "cell_type": "code",
   "execution_count": 16,
   "metadata": {},
   "outputs": [],
   "source": [
    "#Calculate % of votes each candidate won\n",
    "for candidate, votes in candidate_votes.items():\n",
    "    percentage = (votes / total_votes) * 100\n",
    "    analysis_output += f\"{candidate}: {percentage:.3f}% ({votes})\\n\"\n",
    "\n",
    "    #Check if the current candidate is the winner\n",
    "    if not winner or votes > candidate_votes[winner]:\n",
    "        winner = candidate\n",
    "\n",
    "analysis_output += f\"\"\"\n",
    "-------------------------\n",
    "Winner: {winner}\n",
    "-------------------------\n",
    "\"\"\""
   ]
  },
  {
   "cell_type": "code",
   "execution_count": 17,
   "metadata": {},
   "outputs": [
    {
     "name": "stdout",
     "output_type": "stream",
     "text": [
      "\n",
      "Election Results\n",
      "-------------------------\n",
      "Total Votes: 369711\n",
      "-------------------------\n",
      "Charles Casper Stockham: 23.049% (85213)\n",
      "Diana DeGette: 73.812% (272892)\n",
      "Raymon Anthony Doane: 3.139% (11606)\n",
      "\n",
      "-------------------------\n",
      "Winner: Diana DeGette\n",
      "-------------------------\n",
      "\n"
     ]
    }
   ],
   "source": [
    "#Print the analysis\n",
    "print(analysis_output)"
   ]
  },
  {
   "cell_type": "code",
   "execution_count": 18,
   "metadata": {},
   "outputs": [
    {
     "name": "stdout",
     "output_type": "stream",
     "text": [
      "The analysis has been saved to election_results.txt.\n"
     ]
    }
   ],
   "source": [
    "#Export to a text file\n",
    "output_file = \"election_results.txt\"\n",
    "with open(output_file, \"w\") as txtfile:\n",
    "    txtfile.write(analysis_output)\n",
    "\n",
    "print(f\"The analysis has been saved to {output_file}.\")"
   ]
  }
 ],
 "metadata": {
  "kernelspec": {
   "display_name": "base",
   "language": "python",
   "name": "python3"
  },
  "language_info": {
   "codemirror_mode": {
    "name": "ipython",
    "version": 3
   },
   "file_extension": ".py",
   "mimetype": "text/x-python",
   "name": "python",
   "nbconvert_exporter": "python",
   "pygments_lexer": "ipython3",
   "version": "3.10.9"
  },
  "orig_nbformat": 4
 },
 "nbformat": 4,
 "nbformat_minor": 2
}
